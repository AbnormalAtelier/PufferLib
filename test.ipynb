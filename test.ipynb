{
 "cells": [
  {
   "cell_type": "code",
   "execution_count": 1,
   "id": "d650d411",
   "metadata": {},
   "outputs": [
    {
     "ename": "RuntimeError",
     "evalue": "module compiled against ABI version 0x1000009 but this version of numpy is 0x2000000",
     "output_type": "error",
     "traceback": [
      "\u001b[31m---------------------------------------------------------------------------\u001b[39m",
      "\u001b[31mRuntimeError\u001b[39m                              Traceback (most recent call last)",
      "\u001b[31mRuntimeError\u001b[39m: module compiled against ABI version 0x1000009 but this version of numpy is 0x2000000"
     ]
    },
    {
     "ename": "RuntimeError",
     "evalue": "module compiled against ABI version 0x1000009 but this version of numpy is 0x2000000",
     "output_type": "error",
     "traceback": [
      "\u001b[31m---------------------------------------------------------------------------\u001b[39m",
      "\u001b[31mRuntimeError\u001b[39m                              Traceback (most recent call last)",
      "\u001b[31mRuntimeError\u001b[39m: module compiled against ABI version 0x1000009 but this version of numpy is 0x2000000"
     ]
    }
   ],
   "source": [
    "#import torch\n",
    "import pufferlib.vector\n",
    "import pufferlib.ocean"
   ]
  },
  {
   "cell_type": "code",
   "execution_count": 2,
   "id": "772d14ac",
   "metadata": {},
   "outputs": [],
   "source": [
    "env_creator = pufferlib.ocean.env_creator(\"puffer_g2048\")"
   ]
  },
  {
   "cell_type": "code",
   "execution_count": 3,
   "id": "435dd1b0",
   "metadata": {},
   "outputs": [],
   "source": [
    "env = env_creator()"
   ]
  },
  {
   "cell_type": "code",
   "execution_count": 4,
   "id": "39375836",
   "metadata": {},
   "outputs": [
    {
     "data": {
      "text/plain": [
       "(array([[0, 0, 0, 0, 0, 0, 0, 1, 0, 0, 0, 0, 0, 0, 0, 1]], dtype=uint8), [])"
      ]
     },
     "execution_count": 4,
     "metadata": {},
     "output_type": "execute_result"
    }
   ],
   "source": [
    "env.reset(seed=300)"
   ]
  },
  {
   "cell_type": "code",
   "execution_count": 5,
   "id": "ca44f31f",
   "metadata": {},
   "outputs": [],
   "source": [
    "import numpy as np"
   ]
  },
  {
   "cell_type": "code",
   "execution_count": 12,
   "id": "e96dafc0",
   "metadata": {},
   "outputs": [
    {
     "data": {
      "text/plain": [
       "(array([[0, 0, 0, 0, 0, 0, 0, 1, 0, 0, 0, 0, 0, 0, 0, 1]], dtype=uint8),\n",
       " array([-0.5], dtype=float32),\n",
       " array([False]),\n",
       " array([False]),\n",
       " [])"
      ]
     },
     "execution_count": 12,
     "metadata": {},
     "output_type": "execute_result"
    }
   ],
   "source": [
    "env.step(actions= [3.])"
   ]
  },
  {
   "cell_type": "code",
   "execution_count": 7,
   "id": "a77cab05",
   "metadata": {},
   "outputs": [],
   "source": [
    "vecenv = pufferlib.vector.make(env_creator, num_envs=2, num_workers=2, batch_size=1,\n",
    "        backend=pufferlib.vector.Multiprocessing, env_kwargs={'num_envs': 4096})"
   ]
  },
  {
   "cell_type": "code",
   "execution_count": 8,
   "id": "85f99a71",
   "metadata": {},
   "outputs": [
    {
     "data": {
      "text/plain": [
       "(4096, 16)"
      ]
     },
     "execution_count": 8,
     "metadata": {},
     "output_type": "execute_result"
    }
   ],
   "source": [
    "vecenv.reset()[0].shape"
   ]
  },
  {
   "cell_type": "code",
   "execution_count": null,
   "id": "881f53e8",
   "metadata": {},
   "outputs": [],
   "source": []
  }
 ],
 "metadata": {
  "kernelspec": {
   "display_name": ".venv",
   "language": "python",
   "name": "python3"
  },
  "language_info": {
   "codemirror_mode": {
    "name": "ipython",
    "version": 3
   },
   "file_extension": ".py",
   "mimetype": "text/x-python",
   "name": "python",
   "nbconvert_exporter": "python",
   "pygments_lexer": "ipython3",
   "version": "3.11.12"
  }
 },
 "nbformat": 4,
 "nbformat_minor": 5
}
